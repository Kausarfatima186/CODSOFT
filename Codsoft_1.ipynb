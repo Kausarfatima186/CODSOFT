{
  "nbformat": 4,
  "nbformat_minor": 0,
  "metadata": {
    "colab": {
      "provenance": [],
      "authorship_tag": "ABX9TyPN2He41GA/O08/MJH3b9Q9",
      "include_colab_link": true
    },
    "kernelspec": {
      "name": "python3",
      "display_name": "Python 3"
    },
    "language_info": {
      "name": "python"
    }
  },
  "cells": [
    {
      "cell_type": "markdown",
      "metadata": {
        "id": "view-in-github",
        "colab_type": "text"
      },
      "source": [
        "<a href=\"https://colab.research.google.com/github/Kausarfatima186/CODSOFT/blob/main/Codsoft_1.ipynb\" target=\"_parent\"><img src=\"https://colab.research.google.com/assets/colab-badge.svg\" alt=\"Open In Colab\"/></a>"
      ]
    },
    {
      "cell_type": "code",
      "source": [
        "import re\n",
        "\n",
        "# Rule-based chatbot with pattern matching\n",
        "def advanced_chatbot():\n",
        "    print(\"Chatbot: Hi there! I'm an advanced chatbot. How can I help you today? (Type 'exit' to end the chat)\")\n",
        "\n",
        "    while True:\n",
        "        user_input = input(\"You: \").strip().lower()\n",
        "\n",
        "        # Exit condition\n",
        "        if user_input in ['exit', 'quit', 'bye']:\n",
        "            print(\"Chatbot: Goodbye! It was nice chatting with you. Have a great day!\")\n",
        "            break\n",
        "\n",
        "        # Pattern matching for greetings\n",
        "        elif re.search(r'\\b(hi|hello|hey|greetings)\\b', user_input):\n",
        "            print(\"Chatbot: Hello! How can I assist you today?\")\n",
        "\n",
        "        # Pattern matching for chatbot's status\n",
        "        elif re.search(r\"\\b(how are you|how's it going|what's up)\\b\", user_input):\n",
        "            print(\"Chatbot: I'm just a bot, but I'm doing well! How about you?\")\n",
        "\n",
        "        # Pattern matching for asking chatbot's name\n",
        "        elif re.search(r'\\b(your name|who are you)\\b', user_input):\n",
        "            print(\"Chatbot: I'm Chatbot, your virtual assistant. What's your name?\")\n",
        "\n",
        "        # Asking about weather\n",
        "        elif re.search(r'\\b(weather|forecast)\\b', user_input):\n",
        "            print(\"Chatbot: I can't fetch live weather updates, but I hope it's sunny wherever you are!\")\n",
        "\n",
        "        # Tell a joke\n",
        "        elif re.search(r'\\b(joke|make me laugh|funny)\\b', user_input):\n",
        "            print(\"Chatbot: Why did the scarecrow win an award? Because he was outstanding in his field!\")\n",
        "\n",
        "        # Thank-you responses\n",
        "        elif re.search(r'\\b(thanks|thank you|appreciate it)\\b', user_input):\n",
        "            print(\"Chatbot: You're very welcome! Let me know if there's anything else I can help with.\")\n",
        "\n",
        "        # Fallback response for unrecognized input\n",
        "        else:\n",
        "            print(\"Chatbot: I'm not sure I understand that. Can you rephrase or ask something else?\")\n",
        "\n",
        "# Run the advanced chatbot\n",
        "advanced_chatbot()\n"
      ],
      "metadata": {
        "colab": {
          "base_uri": "https://localhost:8080/"
        },
        "id": "lArjdWupVAqd",
        "outputId": "c6763064-d40d-41a9-f139-a908ef0a09db"
      },
      "execution_count": 1,
      "outputs": [
        {
          "output_type": "stream",
          "name": "stdout",
          "text": [
            "Chatbot: Hi there! I'm an advanced chatbot. How can I help you today? (Type 'exit' to end the chat)\n",
            "You: how are you\n",
            "Chatbot: I'm just a bot, but I'm doing well! How about you?\n",
            "You: i am doing good\n",
            "Chatbot: I'm not sure I understand that. Can you rephrase or ask something else?\n",
            "You: todays weather\n",
            "Chatbot: I can't fetch live weather updates, but I hope it's sunny wherever you are!\n",
            "You: bye\n",
            "Chatbot: Goodbye! It was nice chatting with you. Have a great day!\n"
          ]
        }
      ]
    }
  ]
}