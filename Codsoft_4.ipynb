{
  "nbformat": 4,
  "nbformat_minor": 0,
  "metadata": {
    "colab": {
      "provenance": [],
      "authorship_tag": "ABX9TyOD1LXHW7wU5lyWWor9FqYf",
      "include_colab_link": true
    },
    "kernelspec": {
      "name": "python3",
      "display_name": "Python 3"
    },
    "language_info": {
      "name": "python"
    }
  },
  "cells": [
    {
      "cell_type": "markdown",
      "metadata": {
        "id": "view-in-github",
        "colab_type": "text"
      },
      "source": [
        "<a href=\"https://colab.research.google.com/github/Kausarfatima186/CODSOFT/blob/main/Codsoft_4.ipynb\" target=\"_parent\"><img src=\"https://colab.research.google.com/assets/colab-badge.svg\" alt=\"Open In Colab\"/></a>"
      ]
    },
    {
      "cell_type": "code",
      "execution_count": null,
      "metadata": {
        "colab": {
          "base_uri": "https://localhost:8080/"
        },
        "id": "wCS4cTz9dv1V",
        "outputId": "c1adada6-7b33-4e60-9d78-9939b4262493"
      },
      "outputs": [
        {
          "output_type": "stream",
          "name": "stdout",
          "text": [
            "Recommended Movies for User 'A': [('Titanic', 3.611631437761772)]\n"
          ]
        }
      ],
      "source": [
        "import pandas as pd\n",
        "import numpy as np\n",
        "from sklearn.metrics.pairwise import cosine_similarity\n",
        "\n",
        "# Sample dataset\n",
        "data = {\n",
        "    'User': ['A', 'A', 'A', 'B', 'B', 'C', 'C', 'C', 'D', 'D', 'E', 'E'],\n",
        "    'Movie': ['Matrix', 'Avengers', 'Inception', 'Matrix', 'Titanic', 'Avengers', 'Inception', 'Titanic', 'Matrix', 'Titanic', 'Avengers', 'Inception'],\n",
        "    'Rating': [5, 4, 3, 5, 4, 4, 5, 3, 3, 4, 5, 4]\n",
        "}\n",
        "\n",
        "df = pd.DataFrame(data)\n",
        "\n",
        "# Create a user-item matrix\n",
        "user_movie_matrix = df.pivot_table(index='User', columns='Movie', values='Rating').fillna(0)\n",
        "\n",
        "# Compute user similarity matrix\n",
        "user_similarity = cosine_similarity(user_movie_matrix)\n",
        "user_similarity_df = pd.DataFrame(user_similarity, index=user_movie_matrix.index, columns=user_movie_matrix.index)\n",
        "\n",
        "# Recommend movies\n",
        "def recommend_movies(target_user, user_similarity_df, user_movie_matrix, top_n=2):\n",
        "    # Find similar users\n",
        "    similar_users = user_similarity_df[target_user].sort_values(ascending=False).drop(target_user).index\n",
        "\n",
        "    # Calculate weighted ratings for movies the target user hasn't rated\n",
        "    target_user_ratings = user_movie_matrix.loc[target_user]\n",
        "    unreviewed_movies = target_user_ratings[target_user_ratings == 0].index\n",
        "    recommendations = {}\n",
        "\n",
        "    for movie in unreviewed_movies:\n",
        "        weighted_sum = 0\n",
        "        similarity_sum = 0\n",
        "        for user in similar_users:\n",
        "            similarity = user_similarity_df.loc[target_user, user]\n",
        "            rating = user_movie_matrix.loc[user, movie]\n",
        "            if rating > 0:  # Only consider rated movies\n",
        "                weighted_sum += similarity * rating\n",
        "                similarity_sum += similarity\n",
        "        if similarity_sum > 0:\n",
        "            recommendations[movie] = weighted_sum / similarity_sum\n",
        "\n",
        "    # Return the top N recommended movies\n",
        "    return sorted(recommendations.items(), key=lambda x: x[1], reverse=True)[:top_n]\n",
        "\n",
        "# Example: Recommend movies for User 'A'\n",
        "recommended_movies = recommend_movies('A', user_similarity_df, user_movie_matrix)\n",
        "print(\"Recommended Movies for User 'A':\", recommended_movies)\n"
      ]
    }
  ]
}